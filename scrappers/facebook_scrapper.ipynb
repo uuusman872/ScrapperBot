{
 "cells": [
  {
   "cell_type": "code",
   "execution_count": 6,
   "metadata": {},
   "outputs": [],
   "source": [
    "from selenium.webdriver.common.by import By\n",
    "from scrapper import Scrappers\n",
    "import random\n",
    "import time\n",
    "from selenium import webdriver\n",
    "import os \n",
    "import pickle\n",
    "from selenium.webdriver.common.keys import Keys\n",
    "from models.database import Neo4jHandler"
   ]
  },
  {
   "cell_type": "code",
   "execution_count": 7,
   "metadata": {},
   "outputs": [],
   "source": [
    "cookies_file = \"cookies/facebook.pkl\"\n",
    "base_url = \"https://www.facebook.com\""
   ]
  },
  {
   "cell_type": "code",
   "execution_count": 8,
   "metadata": {},
   "outputs": [],
   "source": [
    "driver = webdriver.Chrome()\n",
    "driver.maximize_window()"
   ]
  },
  {
   "cell_type": "code",
   "execution_count": 9,
   "metadata": {},
   "outputs": [],
   "source": [
    "def save_cookies(filename, cookies):\n",
    "    os.makedirs(os.path.dirname(filename), exist_ok=True)\n",
    "    with open(filename, \"wb\") as file:\n",
    "        pickle.dump(cookies, file)\n",
    "\n",
    "def load_cookies(filename):\n",
    "    if os.path.exists(filename):\n",
    "        with open(filename, \"rb\") as file:\n",
    "            return pickle.load(file)\n",
    "    return []\n"
   ]
  },
  {
   "cell_type": "code",
   "execution_count": 10,
   "metadata": {},
   "outputs": [],
   "source": [
    "def login(username, password):\n",
    "    try:\n",
    "        driver.get(\"https://www.facebook.com/\")\n",
    "        email = driver.find_element(By.XPATH, \"//input[@type='text']\")\n",
    "        passwd = driver.find_element(By.XPATH, \"//input[@type='password']\")\n",
    "        email.send_keys(username)\n",
    "        passwd.send_keys(password)\n",
    "        submit = driver.find_element(By.XPATH, \"//*[contains(text(), 'Log in')]\")\n",
    "        submit.click()\n",
    "    except Exception as e:\n",
    "        print(\"unable to complete login process with error \", e)\n",
    "\n",
    "    try:\n",
    "        save_div = driver.find_element(By.XPATH, \"//div[@role='button' and .//*[contains(text(), 'Save')]]\")\n",
    "        save_div.click()\n",
    "    except Exception as e:\n",
    "        print(\"unable to perform click action on save button with error \", e)\n",
    "\n",
    "    if driver.current_url == \"https://www.facebook.com/settings\":\n",
    "        return driver.get_cookies()\n",
    "    return None\n"
   ]
  },
  {
   "cell_type": "code",
   "execution_count": 20,
   "metadata": {},
   "outputs": [],
   "source": [
    "def start_driver(username, password):\n",
    "    driver.get(base_url)\n",
    "    if os.path.exists(cookies_file):\n",
    "        cookies = load_cookies(cookies_file)\n",
    "        for cookie in cookies:\n",
    "            try:\n",
    "                driver.add_cookie(cookie)\n",
    "            except Exception as e:\n",
    "                pass\n",
    "    else:\n",
    "        if username and password:\n",
    "            cookies = login(username, password)\n",
    "            if cookies:\n",
    "                save_cookies(cookies_file, cookies)"
   ]
  },
  {
   "cell_type": "code",
   "execution_count": 13,
   "metadata": {},
   "outputs": [],
   "source": [
    "def scroll_followers(pause_time_range=(2, 5), scroll_amount=500):\n",
    "    last_height = driver.execute_script(\"return document.body.scrollHeight\")\n",
    "    while True:\n",
    "        driver.execute_script(f\"window.scrollBy(0, {scroll_amount});\")\n",
    "        time.sleep(random.uniform(*pause_time_range))\n",
    "        new_height = driver.execute_script(\"return document.body.scrollHeight\")\n",
    "        if new_height == last_height:\n",
    "            break\n",
    "        last_height = new_height"
   ]
  },
  {
   "cell_type": "code",
   "execution_count": null,
   "metadata": {},
   "outputs": [],
   "source": []
  },
  {
   "cell_type": "code",
   "execution_count": 16,
   "metadata": {},
   "outputs": [],
   "source": [
    "def extract_profile(url):\n",
    "    driver.get(url)\n",
    "    result = {\n",
    "        \"profile_image\": \"\",\n",
    "        \"profile_name\": \"\",\n",
    "        \"profile_url\": \"\",\n",
    "        \"profile_username\": \"\"\n",
    "    }\n",
    "    try:\n",
    "        profile_section = driver.find_element(By.XPATH, '//div[@class=\"x9f619 x1ja2u2z x78zum5 x2lah0s x1n2onr6 xl56j7k x1qjc9v5 xozqiw3 x1q0g3np x1l90r2v x1ve1bff\"]')\n",
    "        result[\"profile_image\"] = profile_section.find_element(By.XPATH, \".//img\").get_attribute(\"src\")\n",
    "        result[\"profile_name\"] = profile_section.find_element(By.XPATH, \".//h1\").text\n",
    "        result[\"profile_url\"] = driver.current_url\n",
    "        result[\"profile_username\"] = driver.current_url.split(\"/\")[-1]\n",
    "    except Exception as e:\n",
    "        pass\n",
    "    return result"
   ]
  },
  {
   "cell_type": "code",
   "execution_count": 17,
   "metadata": {},
   "outputs": [],
   "source": [
    "def scroll_by_pressing_end():\n",
    "    count = 0\n",
    "    timer = 0\n",
    "    wait_count = 20\n",
    "    last_height = driver.execute_script(\"return document.body.scrollHeight\")\n",
    "    while True:\n",
    "        driver.find_element(\"tag name\", \"body\").send_keys(Keys.END)\n",
    "        new_height = driver.execute_script(\"return document.body.scrollHeight\")\n",
    "        \n",
    "        if last_height >= new_height:\n",
    "            count += 1\n",
    "        else:\n",
    "            count = 0\n",
    "            \n",
    "        if count >= 5:\n",
    "            break\n",
    "\n",
    "        last_height = new_height\n",
    "        timer += 1\n",
    "        \n",
    "        if timer >= wait_count:\n",
    "            timer = 0\n",
    "            time.sleep(random.randint(5, 10))\n",
    "        else:\n",
    "            time.sleep(random.randint(0, 3))"
   ]
  },
  {
   "cell_type": "code",
   "execution_count": 28,
   "metadata": {},
   "outputs": [],
   "source": [
    "def extract_friends(url):\n",
    "    driver.get(url + \"/friends\")\n",
    "    scroll_by_pressing_end()\n",
    "    friends_div = driver.find_elements(By.XPATH, '//div[@class=\"x78zum5 x1q0g3np x1a02dak x1qughib\"]/div')\n",
    "    result = []\n",
    "    for friend in friends_div:\n",
    "        data = {}\n",
    "        try:\n",
    "            username = friend.find_element(By.XPATH, './/a[@tabindex=\"0\"]/span')\n",
    "            data[\"name\"] = username.text\n",
    "            data[\"profile_link\"] = friend.find_element(By.XPATH, \".//a\").get_attribute(\"href\")\n",
    "            data[\"username\"] = data[\"profile_link\"].split(\"/\")[-1]\n",
    "        except Exception:\n",
    "            pass\n",
    "        if not data:\n",
    "            continue\n",
    "        result.append(data)\n",
    "    return result"
   ]
  },
  {
   "cell_type": "code",
   "execution_count": 29,
   "metadata": {},
   "outputs": [
    {
     "name": "stdout",
     "output_type": "stream",
     "text": [
      "[+] Connected to Neo4j database: test\n"
     ]
    }
   ],
   "source": [
    "neohandler = Neo4jHandler()\n",
    "def start(url):\n",
    "    start_driver(username=\"\", password=\"\")\n",
    "    data = extract_profile(url)\n",
    "    neohandler.create_person(profile_url=data.get(\"profile_url\"), profile_name=data.get(\"profile_name\"), profile_image=data.get(\"profile_image\"), profile_username=data.get(\"profile_username\"))\n",
    "    res = extract_friends(url)\n",
    "    for data in res:\n",
    "        neohandler.create_friends(\"nina.visser.3\", name=data.get(\"name\"), profile_link=data.get(\"profile_link\"), username=data.get(\"username\"))"
   ]
  },
  {
   "cell_type": "code",
   "execution_count": 30,
   "metadata": {},
   "outputs": [],
   "source": [
    "start(\"https://www.facebook.com/nina.visser.3\")"
   ]
  },
  {
   "cell_type": "code",
   "execution_count": null,
   "metadata": {},
   "outputs": [],
   "source": []
  }
 ],
 "metadata": {
  "kernelspec": {
   "display_name": "env",
   "language": "python",
   "name": "python3"
  },
  "language_info": {
   "codemirror_mode": {
    "name": "ipython",
    "version": 3
   },
   "file_extension": ".py",
   "mimetype": "text/x-python",
   "name": "python",
   "nbconvert_exporter": "python",
   "pygments_lexer": "ipython3",
   "version": "3.13.1"
  }
 },
 "nbformat": 4,
 "nbformat_minor": 2
}
